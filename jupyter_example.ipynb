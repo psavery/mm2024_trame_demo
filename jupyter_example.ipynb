{
 "cells": [
  {
   "cell_type": "code",
   "execution_count": null,
   "id": "fa510ee5-aace-456d-a9e1-af5ba71e55d9",
   "metadata": {},
   "outputs": [],
   "source": [
    "# This requires the dependencies `notebook` and `ipywidgets`. Please pip install them before running this.\n",
    "import pyvista as pv\n",
    "\n",
    "from data_loader import fetch_dataset\n",
    "\n",
    "selected_dataset_path = fetch_dataset('star_nanoparticle')"
   ]
  },
  {
   "cell_type": "code",
   "execution_count": null,
   "id": "2f759412-105d-4276-a45d-9965817a6b0a",
   "metadata": {},
   "outputs": [],
   "source": [
    "input_data = pv.read(selected_dataset_path)\n",
    "\n",
    "pl = pv.Plotter()\n",
    "volume = pl.add_volume(input_data, cmap='plasma', opacity='sigmoid_5')"
   ]
  },
  {
   "cell_type": "code",
   "execution_count": null,
   "id": "8d84a001-7be5-4a50-8200-2e6a0af630ca",
   "metadata": {},
   "outputs": [],
   "source": [
    "pl.show()"
   ]
  },
  {
   "cell_type": "code",
   "execution_count": null,
   "id": "755eb62b-ac95-4040-ae57-0593e5734e56",
   "metadata": {},
   "outputs": [],
   "source": []
  }
 ],
 "metadata": {
  "kernelspec": {
   "display_name": "Python 3 (ipykernel)",
   "language": "python",
   "name": "python3"
  },
  "language_info": {
   "codemirror_mode": {
    "name": "ipython",
    "version": 3
   },
   "file_extension": ".py",
   "mimetype": "text/x-python",
   "name": "python",
   "nbconvert_exporter": "python",
   "pygments_lexer": "ipython3",
   "version": "3.11.6"
  }
 },
 "nbformat": 4,
 "nbformat_minor": 5
}
